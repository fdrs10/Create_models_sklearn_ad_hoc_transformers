{
 "cells": [
  {
   "cell_type": "code",
   "execution_count": 67,
   "metadata": {},
   "outputs": [],
   "source": [
    "\"\"\"  \"\"\"\n",
    "\n",
    "import pandas as pd\n",
    "import numpy as np\n",
    "import matplotlib.pyplot as plt\n",
    "import seaborn as sns\n",
    "import warnings\n",
    "\n",
    "sns.set_style('darkgrid')\n",
    "np.set_printoptions(precision=2)\n",
    "# warnings.filterwarnings(\"ignore\")\n",
    "\n",
    "from sklearn.preprocessing import MinMaxScaler, StandardScaler, Normalizer, Binarizer, RobustScaler\n",
    "from sklearn.compose import ColumnTransformer\n",
    "from sklearn.preprocessing import OneHotEncoder, LabelEncoder, PowerTransformer\n",
    "from sklearn.impute import SimpleImputer, KNNImputer\n",
    "\n",
    "from sklearn.feature_selection import SelectKBest, chi2, RFE\n",
    "from sklearn.model_selection import train_test_split\n",
    "from sklearn.pipeline import make_pipeline, Pipeline\n",
    "from sklearn.decomposition import PCA\n",
    "\n",
    "from sklearn.linear_model import LogisticRegression\n",
    "from sklearn.tree import DecisionTreeClassifier\n",
    "from sklearn.neighbors import KNeighborsClassifier\n",
    "from sklearn.discriminant_analysis import LinearDiscriminantAnalysis\n",
    "from sklearn.naive_bayes import GaussianNB\n",
    "from sklearn.ensemble import RandomForestClassifier, ExtraTreesClassifier\n",
    "from sklearn.svm import SVC\n",
    "\n",
    "from sklearn.metrics import accuracy_score, confusion_matrix, classification_report, f1_score\n",
    "\n",
    "from sklearn.model_selection import KFold, ShuffleSplit, LeaveOneOut, StratifiedKFold\n",
    "from sklearn.model_selection import cross_val_score, cross_val_predict\n",
    "from sklearn.model_selection import GridSearchCV, RandomizedSearchCV\n",
    "\n",
    "from sklearn import set_config"
   ]
  },
  {
   "cell_type": "markdown",
   "metadata": {},
   "source": [
    "# \n",
    "\n"
   ]
  },
  {
   "cell_type": "code",
   "execution_count": 68,
   "metadata": {},
   "outputs": [
    {
     "data": {
      "text/plain": [
       "40"
      ]
     },
     "execution_count": 68,
     "metadata": {},
     "output_type": "execute_result"
    }
   ],
   "source": [
    "\"\"\"  \"\"\"\n",
    "\n",
    "seed = 14+13*2#dia-nacimiento- + 13 * mes-nacimiento-\n",
    "seed"
   ]
  },
  {
   "cell_type": "code",
   "execution_count": null,
   "metadata": {},
   "outputs": [],
   "source": []
  },
  {
   "cell_type": "markdown",
   "metadata": {},
   "source": [
    "### Data cleansing"
   ]
  },
  {
   "cell_type": "code",
   "execution_count": 69,
   "metadata": {},
   "outputs": [
    {
     "data": {
      "text/html": [
       "<div>\n",
       "<style scoped>\n",
       "    .dataframe tbody tr th:only-of-type {\n",
       "        vertical-align: middle;\n",
       "    }\n",
       "\n",
       "    .dataframe tbody tr th {\n",
       "        vertical-align: top;\n",
       "    }\n",
       "\n",
       "    .dataframe thead th {\n",
       "        text-align: right;\n",
       "    }\n",
       "</style>\n",
       "<table border=\"1\" class=\"dataframe\">\n",
       "  <thead>\n",
       "    <tr style=\"text-align: right;\">\n",
       "      <th></th>\n",
       "      <th>PassengerId</th>\n",
       "      <th>Survived</th>\n",
       "      <th>Pclass</th>\n",
       "      <th>Name</th>\n",
       "      <th>Sex</th>\n",
       "      <th>Age</th>\n",
       "      <th>SibSp</th>\n",
       "      <th>Parch</th>\n",
       "      <th>Ticket</th>\n",
       "      <th>Fare</th>\n",
       "      <th>Cabin</th>\n",
       "      <th>Embarked</th>\n",
       "      <th>Title</th>\n",
       "    </tr>\n",
       "  </thead>\n",
       "  <tbody>\n",
       "    <tr>\n",
       "      <th>0</th>\n",
       "      <td>1</td>\n",
       "      <td>0</td>\n",
       "      <td>3</td>\n",
       "      <td>Braund, Mr. Owen Harris</td>\n",
       "      <td>male</td>\n",
       "      <td>22.0</td>\n",
       "      <td>1</td>\n",
       "      <td>0</td>\n",
       "      <td>A/5 21171</td>\n",
       "      <td>7.2500</td>\n",
       "      <td>NaN</td>\n",
       "      <td>S</td>\n",
       "      <td>Mr</td>\n",
       "    </tr>\n",
       "    <tr>\n",
       "      <th>1</th>\n",
       "      <td>2</td>\n",
       "      <td>1</td>\n",
       "      <td>1</td>\n",
       "      <td>Cumings, Mrs. John Bradley (Florence Briggs Th...</td>\n",
       "      <td>female</td>\n",
       "      <td>38.0</td>\n",
       "      <td>1</td>\n",
       "      <td>0</td>\n",
       "      <td>PC 17599</td>\n",
       "      <td>71.2833</td>\n",
       "      <td>C85</td>\n",
       "      <td>C</td>\n",
       "      <td>Mrs</td>\n",
       "    </tr>\n",
       "    <tr>\n",
       "      <th>2</th>\n",
       "      <td>3</td>\n",
       "      <td>1</td>\n",
       "      <td>3</td>\n",
       "      <td>Heikkinen, Miss. Laina</td>\n",
       "      <td>female</td>\n",
       "      <td>26.0</td>\n",
       "      <td>0</td>\n",
       "      <td>0</td>\n",
       "      <td>STON/O2. 3101282</td>\n",
       "      <td>7.9250</td>\n",
       "      <td>NaN</td>\n",
       "      <td>S</td>\n",
       "      <td>Miss</td>\n",
       "    </tr>\n",
       "    <tr>\n",
       "      <th>3</th>\n",
       "      <td>4</td>\n",
       "      <td>1</td>\n",
       "      <td>1</td>\n",
       "      <td>Futrelle, Mrs. Jacques Heath (Lily May Peel)</td>\n",
       "      <td>female</td>\n",
       "      <td>35.0</td>\n",
       "      <td>1</td>\n",
       "      <td>0</td>\n",
       "      <td>113803</td>\n",
       "      <td>53.1000</td>\n",
       "      <td>C123</td>\n",
       "      <td>S</td>\n",
       "      <td>Mrs</td>\n",
       "    </tr>\n",
       "    <tr>\n",
       "      <th>4</th>\n",
       "      <td>5</td>\n",
       "      <td>0</td>\n",
       "      <td>3</td>\n",
       "      <td>Allen, Mr. William Henry</td>\n",
       "      <td>male</td>\n",
       "      <td>35.0</td>\n",
       "      <td>0</td>\n",
       "      <td>0</td>\n",
       "      <td>373450</td>\n",
       "      <td>8.0500</td>\n",
       "      <td>NaN</td>\n",
       "      <td>S</td>\n",
       "      <td>Mr</td>\n",
       "    </tr>\n",
       "  </tbody>\n",
       "</table>\n",
       "</div>"
      ],
      "text/plain": [
       "   PassengerId  Survived  Pclass  \\\n",
       "0            1         0       3   \n",
       "1            2         1       1   \n",
       "2            3         1       3   \n",
       "3            4         1       1   \n",
       "4            5         0       3   \n",
       "\n",
       "                                                Name     Sex   Age  SibSp  \\\n",
       "0                            Braund, Mr. Owen Harris    male  22.0      1   \n",
       "1  Cumings, Mrs. John Bradley (Florence Briggs Th...  female  38.0      1   \n",
       "2                             Heikkinen, Miss. Laina  female  26.0      0   \n",
       "3       Futrelle, Mrs. Jacques Heath (Lily May Peel)  female  35.0      1   \n",
       "4                           Allen, Mr. William Henry    male  35.0      0   \n",
       "\n",
       "   Parch            Ticket     Fare Cabin Embarked Title  \n",
       "0      0         A/5 21171   7.2500   NaN        S    Mr  \n",
       "1      0          PC 17599  71.2833   C85        C   Mrs  \n",
       "2      0  STON/O2. 3101282   7.9250   NaN        S  Miss  \n",
       "3      0            113803  53.1000  C123        S   Mrs  \n",
       "4      0            373450   8.0500   NaN        S    Mr  "
      ]
     },
     "execution_count": 69,
     "metadata": {},
     "output_type": "execute_result"
    }
   ],
   "source": [
    "\"\"\" Leed el fichero con pandas y almacenarlo en una variable llamada data \"\"\"\n",
    "\n",
    "data = pd.read_csv('titanic-2.csv')\n",
    "data.head()"
   ]
  },
  {
   "cell_type": "code",
   "execution_count": 70,
   "metadata": {
    "scrolled": true
   },
   "outputs": [
    {
     "data": {
      "text/html": [
       "<div>\n",
       "<style scoped>\n",
       "    .dataframe tbody tr th:only-of-type {\n",
       "        vertical-align: middle;\n",
       "    }\n",
       "\n",
       "    .dataframe tbody tr th {\n",
       "        vertical-align: top;\n",
       "    }\n",
       "\n",
       "    .dataframe thead th {\n",
       "        text-align: right;\n",
       "    }\n",
       "</style>\n",
       "<table border=\"1\" class=\"dataframe\">\n",
       "  <thead>\n",
       "    <tr style=\"text-align: right;\">\n",
       "      <th></th>\n",
       "      <th>PassengerId</th>\n",
       "      <th>Survived</th>\n",
       "      <th>Pclass</th>\n",
       "      <th>Name</th>\n",
       "      <th>Sex</th>\n",
       "      <th>Age</th>\n",
       "      <th>SibSp</th>\n",
       "      <th>Parch</th>\n",
       "      <th>Ticket</th>\n",
       "      <th>Fare</th>\n",
       "      <th>Cabin</th>\n",
       "      <th>Embarked</th>\n",
       "      <th>Title</th>\n",
       "      <th>hasCabin</th>\n",
       "    </tr>\n",
       "  </thead>\n",
       "  <tbody>\n",
       "    <tr>\n",
       "      <th>0</th>\n",
       "      <td>1</td>\n",
       "      <td>0</td>\n",
       "      <td>3</td>\n",
       "      <td>Braund, Mr. Owen Harris</td>\n",
       "      <td>male</td>\n",
       "      <td>22.0</td>\n",
       "      <td>1</td>\n",
       "      <td>0</td>\n",
       "      <td>A/5 21171</td>\n",
       "      <td>7.2500</td>\n",
       "      <td>0</td>\n",
       "      <td>S</td>\n",
       "      <td>Mr</td>\n",
       "      <td>0</td>\n",
       "    </tr>\n",
       "    <tr>\n",
       "      <th>1</th>\n",
       "      <td>2</td>\n",
       "      <td>1</td>\n",
       "      <td>1</td>\n",
       "      <td>Cumings, Mrs. John Bradley (Florence Briggs Th...</td>\n",
       "      <td>female</td>\n",
       "      <td>38.0</td>\n",
       "      <td>1</td>\n",
       "      <td>0</td>\n",
       "      <td>PC 17599</td>\n",
       "      <td>71.2833</td>\n",
       "      <td>C85</td>\n",
       "      <td>C</td>\n",
       "      <td>Mrs</td>\n",
       "      <td>1</td>\n",
       "    </tr>\n",
       "    <tr>\n",
       "      <th>2</th>\n",
       "      <td>3</td>\n",
       "      <td>1</td>\n",
       "      <td>3</td>\n",
       "      <td>Heikkinen, Miss. Laina</td>\n",
       "      <td>female</td>\n",
       "      <td>26.0</td>\n",
       "      <td>0</td>\n",
       "      <td>0</td>\n",
       "      <td>STON/O2. 3101282</td>\n",
       "      <td>7.9250</td>\n",
       "      <td>0</td>\n",
       "      <td>S</td>\n",
       "      <td>Miss</td>\n",
       "      <td>0</td>\n",
       "    </tr>\n",
       "    <tr>\n",
       "      <th>3</th>\n",
       "      <td>4</td>\n",
       "      <td>1</td>\n",
       "      <td>1</td>\n",
       "      <td>Futrelle, Mrs. Jacques Heath (Lily May Peel)</td>\n",
       "      <td>female</td>\n",
       "      <td>35.0</td>\n",
       "      <td>1</td>\n",
       "      <td>0</td>\n",
       "      <td>113803</td>\n",
       "      <td>53.1000</td>\n",
       "      <td>C123</td>\n",
       "      <td>S</td>\n",
       "      <td>Mrs</td>\n",
       "      <td>1</td>\n",
       "    </tr>\n",
       "    <tr>\n",
       "      <th>4</th>\n",
       "      <td>5</td>\n",
       "      <td>0</td>\n",
       "      <td>3</td>\n",
       "      <td>Allen, Mr. William Henry</td>\n",
       "      <td>male</td>\n",
       "      <td>35.0</td>\n",
       "      <td>0</td>\n",
       "      <td>0</td>\n",
       "      <td>373450</td>\n",
       "      <td>8.0500</td>\n",
       "      <td>0</td>\n",
       "      <td>S</td>\n",
       "      <td>Mr</td>\n",
       "      <td>0</td>\n",
       "    </tr>\n",
       "  </tbody>\n",
       "</table>\n",
       "</div>"
      ],
      "text/plain": [
       "   PassengerId  Survived  Pclass  \\\n",
       "0            1         0       3   \n",
       "1            2         1       1   \n",
       "2            3         1       3   \n",
       "3            4         1       1   \n",
       "4            5         0       3   \n",
       "\n",
       "                                                Name     Sex   Age  SibSp  \\\n",
       "0                            Braund, Mr. Owen Harris    male  22.0      1   \n",
       "1  Cumings, Mrs. John Bradley (Florence Briggs Th...  female  38.0      1   \n",
       "2                             Heikkinen, Miss. Laina  female  26.0      0   \n",
       "3       Futrelle, Mrs. Jacques Heath (Lily May Peel)  female  35.0      1   \n",
       "4                           Allen, Mr. William Henry    male  35.0      0   \n",
       "\n",
       "   Parch            Ticket     Fare Cabin Embarked Title  hasCabin  \n",
       "0      0         A/5 21171   7.2500     0        S    Mr         0  \n",
       "1      0          PC 17599  71.2833   C85        C   Mrs         1  \n",
       "2      0  STON/O2. 3101282   7.9250     0        S  Miss         0  \n",
       "3      0            113803  53.1000  C123        S   Mrs         1  \n",
       "4      0            373450   8.0500     0        S    Mr         0  "
      ]
     },
     "execution_count": 70,
     "metadata": {},
     "output_type": "execute_result"
    }
   ],
   "source": [
    "\"\"\" Cread una variable adicional, llamada hasCabin, \n",
    "    que tome valor 0 si la columna Cabin es nula, y 1 si no lo es \"\"\"\n",
    "data['Cabin']=data.Cabin.fillna(0)\n",
    "data['hasCabin'] = data.Cabin.apply(lambda x: 0 if x==0 else 1)# codigo-alumno\n",
    "data.head()"
   ]
  },
  {
   "cell_type": "code",
   "execution_count": 71,
   "metadata": {},
   "outputs": [
    {
     "data": {
      "text/html": [
       "<div>\n",
       "<style scoped>\n",
       "    .dataframe tbody tr th:only-of-type {\n",
       "        vertical-align: middle;\n",
       "    }\n",
       "\n",
       "    .dataframe tbody tr th {\n",
       "        vertical-align: top;\n",
       "    }\n",
       "\n",
       "    .dataframe thead th {\n",
       "        text-align: right;\n",
       "    }\n",
       "</style>\n",
       "<table border=\"1\" class=\"dataframe\">\n",
       "  <thead>\n",
       "    <tr style=\"text-align: right;\">\n",
       "      <th></th>\n",
       "      <th>Survived</th>\n",
       "      <th>Pclass</th>\n",
       "      <th>Sex</th>\n",
       "      <th>Age</th>\n",
       "      <th>SibSp</th>\n",
       "      <th>Parch</th>\n",
       "      <th>Fare</th>\n",
       "      <th>Embarked</th>\n",
       "      <th>Title</th>\n",
       "      <th>hasCabin</th>\n",
       "    </tr>\n",
       "  </thead>\n",
       "  <tbody>\n",
       "    <tr>\n",
       "      <th>0</th>\n",
       "      <td>0</td>\n",
       "      <td>3</td>\n",
       "      <td>male</td>\n",
       "      <td>22.0</td>\n",
       "      <td>1</td>\n",
       "      <td>0</td>\n",
       "      <td>7.2500</td>\n",
       "      <td>S</td>\n",
       "      <td>Mr</td>\n",
       "      <td>0</td>\n",
       "    </tr>\n",
       "    <tr>\n",
       "      <th>1</th>\n",
       "      <td>1</td>\n",
       "      <td>1</td>\n",
       "      <td>female</td>\n",
       "      <td>38.0</td>\n",
       "      <td>1</td>\n",
       "      <td>0</td>\n",
       "      <td>71.2833</td>\n",
       "      <td>C</td>\n",
       "      <td>Mrs</td>\n",
       "      <td>1</td>\n",
       "    </tr>\n",
       "    <tr>\n",
       "      <th>2</th>\n",
       "      <td>1</td>\n",
       "      <td>3</td>\n",
       "      <td>female</td>\n",
       "      <td>26.0</td>\n",
       "      <td>0</td>\n",
       "      <td>0</td>\n",
       "      <td>7.9250</td>\n",
       "      <td>S</td>\n",
       "      <td>Miss</td>\n",
       "      <td>0</td>\n",
       "    </tr>\n",
       "    <tr>\n",
       "      <th>3</th>\n",
       "      <td>1</td>\n",
       "      <td>1</td>\n",
       "      <td>female</td>\n",
       "      <td>35.0</td>\n",
       "      <td>1</td>\n",
       "      <td>0</td>\n",
       "      <td>53.1000</td>\n",
       "      <td>S</td>\n",
       "      <td>Mrs</td>\n",
       "      <td>1</td>\n",
       "    </tr>\n",
       "    <tr>\n",
       "      <th>4</th>\n",
       "      <td>0</td>\n",
       "      <td>3</td>\n",
       "      <td>male</td>\n",
       "      <td>35.0</td>\n",
       "      <td>0</td>\n",
       "      <td>0</td>\n",
       "      <td>8.0500</td>\n",
       "      <td>S</td>\n",
       "      <td>Mr</td>\n",
       "      <td>0</td>\n",
       "    </tr>\n",
       "  </tbody>\n",
       "</table>\n",
       "</div>"
      ],
      "text/plain": [
       "   Survived  Pclass     Sex   Age  SibSp  Parch     Fare Embarked Title  \\\n",
       "0         0       3    male  22.0      1      0   7.2500        S    Mr   \n",
       "1         1       1  female  38.0      1      0  71.2833        C   Mrs   \n",
       "2         1       3  female  26.0      0      0   7.9250        S  Miss   \n",
       "3         1       1  female  35.0      1      0  53.1000        S   Mrs   \n",
       "4         0       3    male  35.0      0      0   8.0500        S    Mr   \n",
       "\n",
       "   hasCabin  \n",
       "0         0  \n",
       "1         1  \n",
       "2         0  \n",
       "3         1  \n",
       "4         0  "
      ]
     },
     "execution_count": 71,
     "metadata": {},
     "output_type": "execute_result"
    }
   ],
   "source": [
    "\"\"\"Eliminad las columnas PassengerId, Cabin, Ticket y Name de data (comando drop) \"\"\"\n",
    "#data = data.drop(['PassengerId', 'Cabin', 'Ticket','Name'], axis=1) este también lo hace\n",
    "data = data.drop(columns=['PassengerId','Cabin', 'Ticket','Name'])\n",
    "data.head()"
   ]
  },
  {
   "cell_type": "code",
   "execution_count": 72,
   "metadata": {},
   "outputs": [],
   "source": [
    "\"\"\" Modificad las variables Title, Parch y SibSp, donde Title tome los valores Mr, Mrs, Miss y Otros. \n",
    "    Y Parch y SibSp toman los valores 0, 1 o 2 (donde 2 incluye 2 o más) \"\"\"\n",
    "\n",
    "data['SibSp'] = data.SibSp.apply(lambda x: 2 if x>=2 else x)# codigo-alumno\n",
    "data['Parch'] = data.Parch.apply(lambda x: 2 if x>=2 else x)# codigo-alumno\n",
    "data['Title'] = data.Title.apply(lambda x: x if x in ['Mr', 'Mrs', 'Miss'] else 'Otros')# codigo-alumno"
   ]
  },
  {
   "cell_type": "code",
   "execution_count": 73,
   "metadata": {},
   "outputs": [],
   "source": [
    "target = 'Survived'\n",
    "cat_cols = ['Pclass', 'Sex','SibSp','Parch','Embarked','Title', 'hasCabin']\n",
    "num_cols = ['Age', 'Fare']"
   ]
  },
  {
   "cell_type": "code",
   "execution_count": 74,
   "metadata": {},
   "outputs": [
    {
     "data": {
      "image/png": "[encoded data removed]",
      "text/plain": [
       "<Figure size 432x288 with 1 Axes>"
      ]
     },
     "metadata": {},
     "output_type": "display_data"
    },
    {
     "data": {
      "image/png": "[encoded data removed]",
      "text/plain": [
       "<Figure size 432x288 with 1 Axes>"
      ]
     },
     "metadata": {},
     "output_type": "display_data"
    },
    {
     "data": {
      "image/png": "[encoded data removed]",
      "text/plain": [
       "<Figure size 432x288 with 1 Axes>"
      ]
     },
     "metadata": {},
     "output_type": "display_data"
    },
    {
     "data": {
      "image/png": "[encoded data removed]",
      "text/plain": [
       "<Figure size 432x288 with 1 Axes>"
      ]
     },
     "metadata": {},
     "output_type": "display_data"
    },
    {
     "data": {
      "image/png": "[encoded data removed]",
      "text/plain": [
       "<Figure size 432x288 with 1 Axes>"
      ]
     },
     "metadata": {},
     "output_type": "display_data"
    },
    {
     "data": {
      "image/png": "[encoded data removed]",
      "text/plain": [
       "<Figure size 432x288 with 1 Axes>"
      ]
     },
     "metadata": {},
     "output_type": "display_data"
    },
    {
     "data": {
      "image/png": "[encoded data removed]",
      "text/plain": [
       "<Figure size 432x288 with 1 Axes>"
      ]
     },
     "metadata": {},
     "output_type": "display_data"
    }
   ],
   "source": [
    "for col in cat_cols:\n",
    "    sns.countplot(x=data[col], data=data)# así no sale el warning\n",
    "    #sns.countplot(data[col])\n",
    "    plt.show()\n",
    "    "
   ]
  },
  {
   "cell_type": "code",
   "execution_count": 75,
   "metadata": {},
   "outputs": [
    {
     "data": {
      "text/plain": [
       "2"
      ]
     },
     "execution_count": 75,
     "metadata": {},
     "output_type": "execute_result"
    }
   ],
   "source": [
    "data.Embarked.isnull().sum()"
   ]
  },
  {
   "cell_type": "code",
   "execution_count": 76,
   "metadata": {},
   "outputs": [
    {
     "name": "stdout",
     "output_type": "stream",
     "text": [
      "(891, 10)\n",
      "(889, 10)\n"
     ]
    }
   ],
   "source": [
    "\"\"\" Eliminad los dos registros cuyo valor Embarked es nulo \n",
    "    (se recomienda comprobar que se hayan eliminado correctamente) \"\"\"\n",
    "#data.isnull().sum()\n",
    "\n",
    "\n",
    "print(data.shape)# codigo-alumno\n",
    "data=data[~(data.Embarked.isnull())]\n",
    "print(data.shape)# codigo-alumno"
   ]
  },
  {
   "cell_type": "code",
   "execution_count": 77,
   "metadata": {},
   "outputs": [
    {
     "data": {
      "text/plain": [
       "0"
      ]
     },
     "execution_count": 77,
     "metadata": {},
     "output_type": "execute_result"
    }
   ],
   "source": [
    "data.Embarked.isnull().sum()"
   ]
  },
  {
   "cell_type": "code",
   "execution_count": 78,
   "metadata": {},
   "outputs": [
    {
     "name": "stdout",
     "output_type": "stream",
     "text": [
      "102\n",
      "(889, 10)\n",
      "(787, 10)\n",
      "0\n"
     ]
    }
   ],
   "source": [
    "\"\"\" Eliminad registros duplicados en caso de que los haya \"\"\"\n",
    "# codigo-alumno\n",
    "\n",
    "# veo que son muhos registros, ¿se que podría haberse dejado la variable paseenger id sin eliminar?\n",
    "print(data.duplicated().sum())\n",
    "print(data.shape)\n",
    "data=data.drop_duplicates()\n",
    "print(data.shape)\n",
    "print(data.duplicated().sum())"
   ]
  },
  {
   "cell_type": "markdown",
   "metadata": {},
   "source": [
    "### Feature engineering"
   ]
  },
  {
   "cell_type": "code",
   "execution_count": 79,
   "metadata": {},
   "outputs": [
    {
     "data": {
      "text/plain": [
       "array([[ 3. , 22. ,  1. , ...,  0. ,  0. ,  0. ],\n",
       "       [ 1. , 38. ,  1. , ...,  0. ,  1. ,  1. ],\n",
       "       [ 3. , 26. ,  0. , ...,  0. ,  1. ,  0. ],\n",
       "       ...,\n",
       "       [ 3. , 26.8,  1. , ...,  0. ,  0. ,  0. ],\n",
       "       [ 1. , 26. ,  0. , ...,  0. ,  1. ,  1. ],\n",
       "       [ 3. , 32. ,  0. , ...,  0. ,  0. ,  0. ]])"
      ]
     },
     "execution_count": 79,
     "metadata": {},
     "output_type": "execute_result"
    }
   ],
   "source": [
    "\n",
    "\"\"\"\n",
    "Realizar un ColumnTransformer que lleve:\n",
    "- Un KNN Imputer para 'Pclass', 'Age', 'SibSp', 'Parch', 'Fare'\n",
    "- Un PowerTransformer yeo-johnson para 'Fare'\n",
    "- Un OneHotEncoder para las variables 'Sex', 'Parch', 'Embarked' y 'Title'\n",
    "\"\"\"\n",
    "\"\"\"Missing values imputing\"\"\"\n",
    "imputer = KNNImputer(n_neighbors=5)\n",
    "\n",
    "\"\"\"Power transformer\"\"\"\n",
    "transformer = PowerTransformer(method='yeo-johnson')\n",
    "\n",
    "\"\"\"Categorical data transform\"\"\"\n",
    "categorical_transformer = OneHotEncoder(handle_unknown='ignore')\n",
    "\n",
    "ftrs_for_imputing = ['Pclass', 'Age', 'SibSp', 'Parch', 'Fare']\n",
    "ftrs_for_Transformer =['Fare']\n",
    "cat_ftrs_OHE = ['Sex', 'Parch', 'Embarked', 'Title']\n",
    "\n",
    "\n",
    "col_transformer = ColumnTransformer(\n",
    "    transformers=[\n",
    "        ('imputer',imputer, ftrs_for_imputing),\n",
    "        ('power', transformer,ftrs_for_Transformer),\n",
    "        ('cat', categorical_transformer, cat_ftrs_OHE)\n",
    "    ],remainder='passthrough'\n",
    ")\n",
    "\n",
    "ctransformed = col_transformer.fit_transform(data)\n",
    "ctransformed\n"
   ]
  },
  {
   "cell_type": "markdown",
   "metadata": {},
   "source": [
    "### Model Selection"
   ]
  },
  {
   "cell_type": "markdown",
   "metadata": {},
   "source": [
    "#### Model selection + KFolds "
   ]
  },
  {
   "cell_type": "code",
   "execution_count": 80,
   "metadata": {},
   "outputs": [],
   "source": [
    "\"\"\" Realizaremos un análisis de los siguientes modelos con las siguentes features \"\"\"\n",
    "\n",
    "models = []\n",
    "models.append(('LR', LogisticRegression(random_state=seed)))\n",
    "models.append(('LDA', LinearDiscriminantAnalysis()))\n",
    "models.append(('KNN', KNeighborsClassifier()))\n",
    "models.append(('DTC', DecisionTreeClassifier(random_state=seed)))\n",
    "models.append(('NB', GaussianNB()))\n",
    "models.append(('RFC', RandomForestClassifier(random_state=seed)))\n",
    "models.append(('SVM', SVC()))\n",
    "\n",
    "X = data[['Pclass', 'Sex', 'Age', 'SibSp', 'Parch', 'Fare', 'Embarked', 'Title', 'hasCabin']]\n",
    "y = data['Survived']"
   ]
  },
  {
   "cell_type": "code",
   "execution_count": 81,
   "metadata": {},
   "outputs": [],
   "source": [
    "\"\"\" Para plotear los resultados utilizaremos la siguiente función \"\"\"\n",
    "\n",
    "def boxplots_algorithms(results, names):\n",
    "    \n",
    "    plt.figure(figsize=(8,8))\n",
    "    plt.boxplot(results)\n",
    "    plt.xticks(range(1,len(names)+1), names)\n",
    "    plt.show()"
   ]
  },
  {
   "cell_type": "code",
   "execution_count": 82,
   "metadata": {},
   "outputs": [
    {
     "name": "stdout",
     "output_type": "stream",
     "text": [
      "LR: 0.792778 (0.044237)\n",
      "LDA: 0.786433 (0.041065)\n",
      "KNN: 0.762285 (0.051328)\n",
      "DTC: 0.726842 (0.036239)\n",
      "NB: 0.754706 (0.043940)\n",
      "RFC: 0.775073 (0.038334)\n",
      "SVM: 0.800471 (0.028789)\n"
     ]
    },
    {
     "data": {
      "image/png": "[encoded data removed]",
      "text/plain": [
       "<Figure size 576x576 with 1 Axes>"
      ]
     },
     "metadata": {},
     "output_type": "display_data"
    }
   ],
   "source": [
    "\"\"\" Realizad un bucle que calcule, para cada modelo,\n",
    "    - Un pipeline que realice:\n",
    "        1. El ColumnTransformer diseñado anteriormente\n",
    "        2. Un RobustScaler a continuación y, finalmente, \n",
    "        3. Evalue cada modelo \n",
    "    - Una validación cruzada:\n",
    "        1. Tipo KFolds, con 10 splits \n",
    "        2. Aleatorio con semilla y,\n",
    "        3. scoring='accuracy'\n",
    "     Usaremos la función boxplots_algorithms para plotear los resultados \"\"\"\n",
    "\n",
    "models = []\n",
    "models.append(('LR', LogisticRegression(random_state=seed)))\n",
    "models.append(('LDA', LinearDiscriminantAnalysis()))\n",
    "models.append(('KNN', KNeighborsClassifier()))\n",
    "models.append(('DTC', DecisionTreeClassifier(random_state=seed)))\n",
    "models.append(('NB', GaussianNB()))\n",
    "models.append(('RFC', RandomForestClassifier(random_state=seed)))\n",
    "models.append(('SVM', SVC()))\n",
    "\n",
    "X = data[['Pclass','Sex', 'Age', 'SibSp', 'Parch', 'Fare', 'Embarked', 'Title', 'hasCabin']]\n",
    "y = data['Survived']\n",
    "\n",
    "results = []\n",
    "names = []\n",
    "\n",
    "for name, model in models:\n",
    "    transformer = col_transformer\n",
    "    scaler = RobustScaler()\n",
    "    pipeline = make_pipeline(transformer, scaler,model)\n",
    "    \n",
    "    cv_technique = KFold(n_splits=10, shuffle=True, random_state=40)\n",
    "    cv_results = cross_val_score(pipeline, X,y,cv=cv_technique, scoring='accuracy')\n",
    "    \n",
    "    msg = \"%s: %f (%f)\" % (name, cv_results.mean(), cv_results.std())\n",
    "    print(msg)\n",
    "    \n",
    "    results.append(cv_results)\n",
    "    names.append(name)\n",
    "    \n",
    "boxplots_algorithms(results, names)"
   ]
  },
  {
   "cell_type": "code",
   "execution_count": 83,
   "metadata": {},
   "outputs": [
    {
     "data": {
      "text/html": [
       "<style>#sk-f746e02c-352e-458f-beb1-449d54213180 {color: black;background-color: white;}#sk-f746e02c-352e-458f-beb1-449d54213180 pre{padding: 0;}#sk-f746e02c-352e-458f-beb1-449d54213180 div.sk-toggleable {background-color: white;}#sk-f746e02c-352e-458f-beb1-449d54213180 label.sk-toggleable__label {cursor: pointer;display: block;width: 100%;margin-bottom: 0;padding: 0.2em 0.3em;box-sizing: border-box;text-align: center;}#sk-f746e02c-352e-458f-beb1-449d54213180 div.sk-toggleable__content {max-height: 0;max-width: 0;overflow: hidden;text-align: left;background-color: #f0f8ff;}#sk-f746e02c-352e-458f-beb1-449d54213180 div.sk-toggleable__content pre {margin: 0.2em;color: black;border-radius: 0.25em;background-color: #f0f8ff;}#sk-f746e02c-352e-458f-beb1-449d54213180 input.sk-toggleable__control:checked~div.sk-toggleable__content {max-height: 200px;max-width: 100%;overflow: auto;}#sk-f746e02c-352e-458f-beb1-449d54213180 div.sk-estimator input.sk-toggleable__control:checked~label.sk-toggleable__label {background-color: #d4ebff;}#sk-f746e02c-352e-458f-beb1-449d54213180 div.sk-label input.sk-toggleable__control:checked~label.sk-toggleable__label {background-color: #d4ebff;}#sk-f746e02c-352e-458f-beb1-449d54213180 input.sk-hidden--visually {border: 0;clip: rect(1px 1px 1px 1px);clip: rect(1px, 1px, 1px, 1px);height: 1px;margin: -1px;overflow: hidden;padding: 0;position: absolute;width: 1px;}#sk-f746e02c-352e-458f-beb1-449d54213180 div.sk-estimator {font-family: monospace;background-color: #f0f8ff;margin: 0.25em 0.25em;border: 1px dotted black;border-radius: 0.25em;box-sizing: border-box;}#sk-f746e02c-352e-458f-beb1-449d54213180 div.sk-estimator:hover {background-color: #d4ebff;}#sk-f746e02c-352e-458f-beb1-449d54213180 div.sk-parallel-item::after {content: \"\";width: 100%;border-bottom: 1px solid gray;flex-grow: 1;}#sk-f746e02c-352e-458f-beb1-449d54213180 div.sk-label:hover label.sk-toggleable__label {background-color: #d4ebff;}#sk-f746e02c-352e-458f-beb1-449d54213180 div.sk-serial::before {content: \"\";position: absolute;border-left: 1px solid gray;box-sizing: border-box;top: 2em;bottom: 0;left: 50%;}#sk-f746e02c-352e-458f-beb1-449d54213180 div.sk-serial {display: flex;flex-direction: column;align-items: center;background-color: white;}#sk-f746e02c-352e-458f-beb1-449d54213180 div.sk-item {z-index: 1;}#sk-f746e02c-352e-458f-beb1-449d54213180 div.sk-parallel {display: flex;align-items: stretch;justify-content: center;background-color: white;}#sk-f746e02c-352e-458f-beb1-449d54213180 div.sk-parallel-item {display: flex;flex-direction: column;position: relative;background-color: white;}#sk-f746e02c-352e-458f-beb1-449d54213180 div.sk-parallel-item:first-child::after {align-self: flex-end;width: 50%;}#sk-f746e02c-352e-458f-beb1-449d54213180 div.sk-parallel-item:last-child::after {align-self: flex-start;width: 50%;}#sk-f746e02c-352e-458f-beb1-449d54213180 div.sk-parallel-item:only-child::after {width: 0;}#sk-f746e02c-352e-458f-beb1-449d54213180 div.sk-dashed-wrapped {border: 1px dashed gray;margin: 0.2em;box-sizing: border-box;padding-bottom: 0.1em;background-color: white;position: relative;}#sk-f746e02c-352e-458f-beb1-449d54213180 div.sk-label label {font-family: monospace;font-weight: bold;background-color: white;display: inline-block;line-height: 1.2em;}#sk-f746e02c-352e-458f-beb1-449d54213180 div.sk-label-container {position: relative;z-index: 2;text-align: center;}#sk-f746e02c-352e-458f-beb1-449d54213180 div.sk-container {display: inline-block;position: relative;}</style><div id=\"sk-f746e02c-352e-458f-beb1-449d54213180\" class\"sk-top-container\"><div class=\"sk-container\"><div class=\"sk-item sk-dashed-wrapped\"><div class=\"sk-label-container\"><div class=\"sk-label sk-toggleable\"><input class=\"sk-toggleable__control sk-hidden--visually\" id=\"eaad0333-bdd3-4faf-b4bf-f0e74fba18b1\" type=\"checkbox\" ><label class=\"sk-toggleable__label\" for=\"eaad0333-bdd3-4faf-b4bf-f0e74fba18b1\">Pipeline</label><div class=\"sk-toggleable__content\"><pre>Pipeline(steps=[('columntransformer',\n",
       "                 ColumnTransformer(remainder='passthrough',\n",
       "                                   transformers=[('imputer', KNNImputer(),\n",
       "                                                  ['Pclass', 'Age', 'SibSp',\n",
       "                                                   'Parch', 'Fare']),\n",
       "                                                 ('power', PowerTransformer(),\n",
       "                                                  ['Fare']),\n",
       "                                                 ('cat',\n",
       "                                                  OneHotEncoder(handle_unknown='ignore'),\n",
       "                                                  ['Sex', 'Parch', 'Embarked',\n",
       "                                                   'Title'])])),\n",
       "                ('robustscaler', RobustScaler()), ('svc', SVC())])</pre></div></div></div><div class=\"sk-serial\"><div class=\"sk-item sk-dashed-wrapped\"><div class=\"sk-label-container\"><div class=\"sk-label sk-toggleable\"><input class=\"sk-toggleable__control sk-hidden--visually\" id=\"b4e3157c-305b-41e7-b2b5-3e9fa90b3889\" type=\"checkbox\" ><label class=\"sk-toggleable__label\" for=\"b4e3157c-305b-41e7-b2b5-3e9fa90b3889\">columntransformer: ColumnTransformer</label><div class=\"sk-toggleable__content\"><pre>ColumnTransformer(remainder='passthrough',\n",
       "                  transformers=[('imputer', KNNImputer(),\n",
       "                                 ['Pclass', 'Age', 'SibSp', 'Parch', 'Fare']),\n",
       "                                ('power', PowerTransformer(), ['Fare']),\n",
       "                                ('cat', OneHotEncoder(handle_unknown='ignore'),\n",
       "                                 ['Sex', 'Parch', 'Embarked', 'Title'])])</pre></div></div></div><div class=\"sk-parallel\"><div class=\"sk-parallel-item\"><div class=\"sk-item\"><div class=\"sk-label-container\"><div class=\"sk-label sk-toggleable\"><input class=\"sk-toggleable__control sk-hidden--visually\" id=\"4d18dca4-a94e-42c7-b6f0-5602f620b5aa\" type=\"checkbox\" ><label class=\"sk-toggleable__label\" for=\"4d18dca4-a94e-42c7-b6f0-5602f620b5aa\">imputer</label><div class=\"sk-toggleable__content\"><pre>['Pclass', 'Age', 'SibSp', 'Parch', 'Fare']</pre></div></div></div><div class=\"sk-serial\"><div class=\"sk-item\"><div class=\"sk-estimator sk-toggleable\"><input class=\"sk-toggleable__control sk-hidden--visually\" id=\"e720b41e-fd0d-4964-af23-42a3e6a25e9d\" type=\"checkbox\" ><label class=\"sk-toggleable__label\" for=\"e720b41e-fd0d-4964-af23-42a3e6a25e9d\">KNNImputer</label><div class=\"sk-toggleable__content\"><pre>KNNImputer()</pre></div></div></div></div></div></div><div class=\"sk-parallel-item\"><div class=\"sk-item\"><div class=\"sk-label-container\"><div class=\"sk-label sk-toggleable\"><input class=\"sk-toggleable__control sk-hidden--visually\" id=\"66ca5f88-09da-4bdd-905a-7731c74597b6\" type=\"checkbox\" ><label class=\"sk-toggleable__label\" for=\"66ca5f88-09da-4bdd-905a-7731c74597b6\">power</label><div class=\"sk-toggleable__content\"><pre>['Fare']</pre></div></div></div><div class=\"sk-serial\"><div class=\"sk-item\"><div class=\"sk-estimator sk-toggleable\"><input class=\"sk-toggleable__control sk-hidden--visually\" id=\"d2f1ee2b-2597-4422-8de6-5bcbb99a3541\" type=\"checkbox\" ><label class=\"sk-toggleable__label\" for=\"d2f1ee2b-2597-4422-8de6-5bcbb99a3541\">PowerTransformer</label><div class=\"sk-toggleable__content\"><pre>PowerTransformer()</pre></div></div></div></div></div></div><div class=\"sk-parallel-item\"><div class=\"sk-item\"><div class=\"sk-label-container\"><div class=\"sk-label sk-toggleable\"><input class=\"sk-toggleable__control sk-hidden--visually\" id=\"1700b48c-9e63-49cb-b79f-2b2e902c5300\" type=\"checkbox\" ><label class=\"sk-toggleable__label\" for=\"1700b48c-9e63-49cb-b79f-2b2e902c5300\">cat</label><div class=\"sk-toggleable__content\"><pre>['Sex', 'Parch', 'Embarked', 'Title']</pre></div></div></div><div class=\"sk-serial\"><div class=\"sk-item\"><div class=\"sk-estimator sk-toggleable\"><input class=\"sk-toggleable__control sk-hidden--visually\" id=\"91f4ff31-3243-4b01-826c-df635c269600\" type=\"checkbox\" ><label class=\"sk-toggleable__label\" for=\"91f4ff31-3243-4b01-826c-df635c269600\">OneHotEncoder</label><div class=\"sk-toggleable__content\"><pre>OneHotEncoder(handle_unknown='ignore')</pre></div></div></div></div></div></div><div class=\"sk-parallel-item\"><div class=\"sk-item\"><div class=\"sk-label-container\"><div class=\"sk-label sk-toggleable\"><input class=\"sk-toggleable__control sk-hidden--visually\" id=\"103fcfce-8b64-46c5-a08c-6825e4f1855e\" type=\"checkbox\" ><label class=\"sk-toggleable__label\" for=\"103fcfce-8b64-46c5-a08c-6825e4f1855e\">remainder</label><div class=\"sk-toggleable__content\"><pre>['Survived', 'hasCabin']</pre></div></div></div><div class=\"sk-serial\"><div class=\"sk-item\"><div class=\"sk-estimator sk-toggleable\"><input class=\"sk-toggleable__control sk-hidden--visually\" id=\"7d0fce0b-5683-4cf7-ad5f-a7901bd16834\" type=\"checkbox\" ><label class=\"sk-toggleable__label\" for=\"7d0fce0b-5683-4cf7-ad5f-a7901bd16834\">passthrough</label><div class=\"sk-toggleable__content\"><pre>passthrough</pre></div></div></div></div></div></div></div></div><div class=\"sk-item\"><div class=\"sk-estimator sk-toggleable\"><input class=\"sk-toggleable__control sk-hidden--visually\" id=\"6aa9ac2c-fcca-4bf7-9505-557ea8ca4ec1\" type=\"checkbox\" ><label class=\"sk-toggleable__label\" for=\"6aa9ac2c-fcca-4bf7-9505-557ea8ca4ec1\">RobustScaler</label><div class=\"sk-toggleable__content\"><pre>RobustScaler()</pre></div></div></div><div class=\"sk-item\"><div class=\"sk-estimator sk-toggleable\"><input class=\"sk-toggleable__control sk-hidden--visually\" id=\"02fc4827-5cce-4cef-83ec-8d2174ae754f\" type=\"checkbox\" ><label class=\"sk-toggleable__label\" for=\"02fc4827-5cce-4cef-83ec-8d2174ae754f\">SVC</label><div class=\"sk-toggleable__content\"><pre>SVC()</pre></div></div></div></div></div></div></div>"
      ],
      "text/plain": [
       "Pipeline(steps=[('columntransformer',\n",
       "                 ColumnTransformer(remainder='passthrough',\n",
       "                                   transformers=[('imputer', KNNImputer(),\n",
       "                                                  ['Pclass', 'Age', 'SibSp',\n",
       "                                                   'Parch', 'Fare']),\n",
       "                                                 ('power', PowerTransformer(),\n",
       "                                                  ['Fare']),\n",
       "                                                 ('cat',\n",
       "                                                  OneHotEncoder(handle_unknown='ignore'),\n",
       "                                                  ['Sex', 'Parch', 'Embarked',\n",
       "                                                   'Title'])])),\n",
       "                ('robustscaler', RobustScaler()), ('svc', SVC())])"
      ]
     },
     "execution_count": 83,
     "metadata": {},
     "output_type": "execute_result"
    }
   ],
   "source": [
    "\n",
    "set_config(display='diagram')\n",
    "pipeline"
   ]
  },
  {
   "cell_type": "markdown",
   "metadata": {},
   "source": [
    "#### Model selection + StratifiedKFolds "
   ]
  },
  {
   "cell_type": "code",
   "execution_count": 84,
   "metadata": {},
   "outputs": [
    {
     "name": "stdout",
     "output_type": "stream",
     "text": [
      "LR: 0.789143 (0.033199)\n",
      "LDA: 0.786530 (0.030446)\n",
      "KNN: 0.776436 (0.033371)\n",
      "DTC: 0.728027 (0.039114)\n",
      "NB: 0.753489 (0.033916)\n",
      "RFC: 0.772525 (0.037541)\n",
      "SVM: 0.797971 (0.041264)\n"
     ]
    },
    {
     "data": {
      "image/png": "[encoded data removed]",
      "text/plain": [
       "<Figure size 576x576 with 1 Axes>"
      ]
     },
     "metadata": {},
     "output_type": "display_data"
    }
   ],
   "source": [
    "\"\"\" Realizad el mismo estudio de selección de variables, pero con StratifiedKFolds \"\"\"\n",
    "\n",
    "models = []\n",
    "models.append(('LR', LogisticRegression(random_state=seed)))\n",
    "models.append(('LDA', LinearDiscriminantAnalysis()))\n",
    "models.append(('KNN', KNeighborsClassifier()))\n",
    "models.append(('DTC', DecisionTreeClassifier(random_state=seed)))\n",
    "models.append(('NB', GaussianNB()))\n",
    "models.append(('RFC', RandomForestClassifier(random_state=seed)))\n",
    "models.append(('SVM', SVC()))\n",
    "\n",
    "X = data[['Pclass','Sex', 'Age', 'SibSp', 'Parch', 'Fare', 'Embarked', 'Title', 'hasCabin']]\n",
    "y = data['Survived']\n",
    "\n",
    "results = []\n",
    "names = []\n",
    "\n",
    "for name, model in models:\n",
    "    transformer = col_transformer\n",
    "    scaler = RobustScaler()\n",
    "    pipeline = make_pipeline(transformer, scaler,model)\n",
    "    \n",
    "    cv_technique = StratifiedKFold(n_splits=10, shuffle=True, random_state=40)\n",
    "    cv_results = cross_val_score(pipeline, X,y,cv=cv_technique, scoring='accuracy')\n",
    "    \n",
    "    msg = \"%s: %f (%f)\" % (name, cv_results.mean(), cv_results.std())\n",
    "    print(msg)\n",
    "    \n",
    "    results.append(cv_results)\n",
    "    names.append(name)\n",
    "    \n",
    "boxplots_algorithms(results, names)"
   ]
  },
  {
   "cell_type": "markdown",
   "metadata": {},
   "source": [
    "### Model Tuning"
   ]
  },
  {
   "cell_type": "markdown",
   "metadata": {},
   "source": [
    "#### Tuning RandomForestClassifier + GridSearchCV + StratifiedKFold"
   ]
  },
  {
   "cell_type": "code",
   "execution_count": 85,
   "metadata": {},
   "outputs": [
    {
     "name": "stdout",
     "output_type": "stream",
     "text": [
      "0.8043618479400145\n",
      "Pipeline(steps=[('transformacion_columna',\n",
      "                 ColumnTransformer(remainder='passthrough',\n",
      "                                   transformers=[('imputer', KNNImputer(),\n",
      "                                                  ['Pclass', 'Age', 'SibSp',\n",
      "                                                   'Parch', 'Fare']),\n",
      "                                                 ('power', PowerTransformer(),\n",
      "                                                  ['Fare']),\n",
      "                                                 ('cat',\n",
      "                                                  OneHotEncoder(handle_unknown='ignore'),\n",
      "                                                  ['Sex', 'Parch', 'Embarked',\n",
      "                                                   'Title'])])),\n",
      "                ('robust_scaler', RobustScaler()),\n",
      "                ('model',\n",
      "                 RandomForestClassifier(criterion='entropy', max_depth=8,\n",
      "                                        max_features='log2',\n",
      "                                        n_estimators=20))])\n"
     ]
    }
   ],
   "source": [
    "\"\"\" Realizad un Tuneado del RandomForestClassifier para estimar cuál es la mejor configuración paramétrica\n",
    "    Y comprobarlo con GridSearchCV \"\"\"\n",
    "\n",
    "param_grid = { \n",
    "    'model__n_estimators': [10, 20],\n",
    "    'model__max_features': ['auto', 'sqrt', 'log2'],\n",
    "    'model__max_depth' : [4,5,6,7,8],\n",
    "    'model__criterion' :['gini', 'entropy']\n",
    "}\n",
    "model = RandomForestClassifier()# codigo-alumno\n",
    "\n",
    "pipeline = Pipeline([('transformacion_columna', col_transformer), \n",
    "                     ('robust_scaler', scaler), \n",
    "                     ('model', model)])\n",
    "\n",
    "cv_technique = StratifiedKFold(n_splits=10, shuffle=True, random_state=40)\n",
    "grid_model = GridSearchCV(pipeline,param_grid=param_grid) # codigo-alumno\n",
    "grid_model.fit(X, y)\n",
    "\n",
    "print(grid_model.best_score_)\n",
    "print(grid_model.best_estimator_)"
   ]
  },
  {
   "cell_type": "code",
   "execution_count": 86,
   "metadata": {},
   "outputs": [
    {
     "data": {
      "text/plain": [
       "{'model__criterion': 'entropy',\n",
       " 'model__max_depth': 8,\n",
       " 'model__max_features': 'log2',\n",
       " 'model__n_estimators': 20}"
      ]
     },
     "execution_count": 86,
     "metadata": {},
     "output_type": "execute_result"
    }
   ],
   "source": [
    "grid_model.best_params_"
   ]
  },
  {
   "cell_type": "code",
   "execution_count": 87,
   "metadata": {},
   "outputs": [
    {
     "data": {
      "text/plain": [
       "9"
      ]
     },
     "execution_count": 87,
     "metadata": {},
     "output_type": "execute_result"
    }
   ],
   "source": [
    "grid_model.n_features_in_"
   ]
  },
  {
   "cell_type": "markdown",
   "metadata": {},
   "source": [
    "#### Tuning RandomForestClassifier + GridSearchCV + KFold"
   ]
  },
  {
   "cell_type": "code",
   "execution_count": 88,
   "metadata": {},
   "outputs": [
    {
     "name": "stdout",
     "output_type": "stream",
     "text": [
      "0.8043618479400146\n",
      "Pipeline(steps=[('transformacion_columna',\n",
      "                 ColumnTransformer(remainder='passthrough',\n",
      "                                   transformers=[('imputer', KNNImputer(),\n",
      "                                                  ['Pclass', 'Age', 'SibSp',\n",
      "                                                   'Parch', 'Fare']),\n",
      "                                                 ('power', PowerTransformer(),\n",
      "                                                  ['Fare']),\n",
      "                                                 ('cat',\n",
      "                                                  OneHotEncoder(handle_unknown='ignore'),\n",
      "                                                  ['Sex', 'Parch', 'Embarked',\n",
      "                                                   'Title'])])),\n",
      "                ('robust_scaler', RobustScaler()),\n",
      "                ('model',\n",
      "                 RandomForestClassifier(max_depth=8, n_estimators=10))])\n"
     ]
    }
   ],
   "source": [
    "\"\"\" Realizad un Tuneado del RandomForestClassifier para estimar cuál es la mejor configuración paramétrica\n",
    "    Y comprobarlo con GridSearchCV \"\"\"\n",
    "\n",
    "param_grid = { \n",
    "    'model__n_estimators': [10, 20],\n",
    "    'model__max_features': ['auto', 'sqrt', 'log2'],\n",
    "    'model__max_depth' : [4,5,6,7,8],\n",
    "    'model__criterion' :['gini', 'entropy']\n",
    "}\n",
    "model = RandomForestClassifier()# codigo-alumno\n",
    "\n",
    "pipeline = Pipeline([('transformacion_columna', col_transformer), \n",
    "                     ('robust_scaler', scaler), \n",
    "                     ('model', model)])\n",
    "\n",
    "cv_technique = KFold(n_splits=10, shuffle=True, random_state=40)\n",
    "grid_model = GridSearchCV(pipeline,param_grid=param_grid) # codigo-alumno\n",
    "grid_model.fit(X, y)\n",
    "\n",
    "print(grid_model.best_score_)\n",
    "print(grid_model.best_estimator_)"
   ]
  },
  {
   "cell_type": "code",
   "execution_count": 89,
   "metadata": {},
   "outputs": [
    {
     "data": {
      "text/plain": [
       "{'model__criterion': 'gini',\n",
       " 'model__max_depth': 8,\n",
       " 'model__max_features': 'auto',\n",
       " 'model__n_estimators': 10}"
      ]
     },
     "execution_count": 89,
     "metadata": {},
     "output_type": "execute_result"
    }
   ],
   "source": [
    "grid_model.best_params_"
   ]
  },
  {
   "cell_type": "code",
   "execution_count": 90,
   "metadata": {},
   "outputs": [
    {
     "data": {
      "text/plain": [
       "9"
      ]
     },
     "execution_count": 90,
     "metadata": {},
     "output_type": "execute_result"
    }
   ],
   "source": [
    "grid_model.n_features_in_"
   ]
  },
  {
   "cell_type": "code",
   "execution_count": 91,
   "metadata": {},
   "outputs": [
    {
     "data": {
      "text/plain": [
       "5"
      ]
     },
     "execution_count": 91,
     "metadata": {},
     "output_type": "execute_result"
    }
   ],
   "source": [
    "grid_model.n_splits_"
   ]
  },
  {
   "cell_type": "markdown",
   "metadata": {},
   "source": [
    "**El mejor modelo es el realizado con el algoritmo RandomForestClassifier y tuneado con los parámetros:\n",
    "\n",
    "     - 'model__criterion': 'entropy',\n",
    "     - 'model__max_depth': 7,\n",
    "     - 'model__max_features': 'sqrt',\n",
    "     - 'model__n_estimators': 20\n",
    "     \n",
    "sobre 5 splits**\n",
    "    "
   ]
  },
  {
   "cell_type": "code",
   "execution_count": null,
   "metadata": {},
   "outputs": [],
   "source": []
  }
 ],
 "metadata": {
  "kernelspec": {
   "display_name": "Python 3",
   "language": "python",
   "name": "python3"
  },
  "language_info": {
   "codemirror_mode": {
    "name": "ipython",
    "version": 3
   },
   "file_extension": ".py",
   "mimetype": "text/x-python",
   "name": "python",
   "nbconvert_exporter": "python",
   "pygments_lexer": "ipython3",
   "version": "3.8.10"
  },
  "toc": {
   "base_numbering": 1,
   "nav_menu": {},
   "number_sections": true,
   "sideBar": true,
   "skip_h1_title": false,
   "title_cell": "Table of Contents",
   "title_sidebar": "Contents",
   "toc_cell": false,
   "toc_position": {},
   "toc_section_display": true,
   "toc_window_display": false
  },
  "varInspector": {
   "cols": {
    "lenName": 16,
    "lenType": 16,
    "lenVar": 40
   },
   "kernels_config": {
    "python": {
     "delete_cmd_postfix": "",
     "delete_cmd_prefix": "del ",
     "library": "var_list.py",
     "varRefreshCmd": "print(var_dic_list())"
    },
    "r": {
     "delete_cmd_postfix": ") ",
     "delete_cmd_prefix": "rm(",
     "library": "var_list.r",
     "varRefreshCmd": "cat(var_dic_list()) "
    }
   },
   "types_to_exclude": [
    "module",
    "function",
    "builtin_function_or_method",
    "instance",
    "_Feature"
   ],
   "window_display": false
  }
 },
 "nbformat": 4,
 "nbformat_minor": 2
}
